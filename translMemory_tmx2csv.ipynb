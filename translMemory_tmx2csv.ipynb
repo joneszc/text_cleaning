{
 "cells": [
  {
   "cell_type": "code",
   "execution_count": 1,
   "metadata": {},
   "outputs": [],
   "source": [
    "import os, codecs, string\n",
    "import xml.etree.ElementTree as ET\n",
    "import ntpath\n",
    "import re\n",
    "import pandas as pd\n",
    "import warnings\n",
    "warnings.filterwarnings(\"ignore\", category=DeprecationWarning)"
   ]
  },
  {
   "cell_type": "markdown",
   "metadata": {},
   "source": [
    "## Load Translation Memory file \n",
    "***We will use the 'DGT-TM: A freely Available Translation Memory in 22 Languages'***\n",
    "\n",
    "(https://ec.europa.eu/jrc/en/language-technologies/dgt-translation-memory)\n",
    "(http://www.lrec-conf.org/proceedings/lrec2012/pdf/814_Paper.pdf)"
   ]
  },
  {
   "cell_type": "code",
   "execution_count": 2,
   "metadata": {},
   "outputs": [
    {
     "name": "stdout",
     "output_type": "stream",
     "text": [
      "[('version', '1.4')]\n"
     ]
    }
   ],
   "source": [
    "# Load and Parse the TM:\n",
    "TMpath = r'data\\Vol_2016_9\\test.tmx'\n",
    "tree = ET.parse(TMpath)\n",
    "root = tree.getroot()\n",
    "print(root.items())"
   ]
  },
  {
   "cell_type": "code",
   "execution_count": 3,
   "metadata": {},
   "outputs": [
    {
     "data": {
      "text/plain": [
       "'tmx'"
      ]
     },
     "execution_count": 3,
     "metadata": {},
     "output_type": "execute_result"
    }
   ],
   "source": [
    "root.tag"
   ]
  },
  {
   "cell_type": "code",
   "execution_count": 4,
   "metadata": {},
   "outputs": [
    {
     "data": {
      "text/plain": [
       "1156"
      ]
     },
     "execution_count": 4,
     "metadata": {},
     "output_type": "execute_result"
    }
   ],
   "source": [
    "# LET'S GET A TOTAL COUNT OF THE SEGMENTS:\n",
    "tm_dict = set()\n",
    "for x in root.iter('tu'):\n",
    "    for i in x.getchildren():\n",
    "        for txt in i.getchildren():\n",
    "            txt = str(txt.text).replace(\"\\n\", \" \")\n",
    "            tm_dict.add(str(txt))\n",
    "len(tm_dict)"
   ]
  },
  {
   "cell_type": "code",
   "execution_count": 5,
   "metadata": {},
   "outputs": [
    {
     "name": "stdout",
     "output_type": "stream",
     "text": [
      "Ņemot vērā visu iepriekš minēto, Aģentūra ieteica, ka Regulas (EK) Nr. 216/2008 11. panta 1. punktu beidz piemērot HATA izsniegtajām atzīšanas apliecībām par eksāmenu pamatzināšanās par tehniskajiem moduļiem un Part-66 apliecībām, ko izdevušas dalībvalstu kompetentās iestādes, pamatojoties uz šīm atzīšanas apliecībām.\n"
     ]
    }
   ],
   "source": [
    "#LET'S SAMPLE THE 1st SEGMENT:\n",
    "print(list(tm_dict)[0])"
   ]
  },
  {
   "cell_type": "code",
   "execution_count": 6,
   "metadata": {},
   "outputs": [
    {
     "name": "stdout",
     "output_type": "stream",
     "text": [
      "1172\n",
      "578\n"
     ]
    }
   ],
   "source": [
    "# LET'S GET TOTAL COUNT AND COUNT OF 1 SIDE:\n",
    "tm_dic = {}\n",
    "cnt = 0\n",
    "test_set = set()\n",
    "for x in root.iter('tu'):\n",
    "    k =None\n",
    "    v = None\n",
    "    for i in x.getchildren():\n",
    "        for txt in i.getchildren():\n",
    "            txt = str(txt.text).replace(\"\\n\", \" \").strip()\n",
    "            if cnt%2==0:\n",
    "                k = txt\n",
    "                test_set.add(txt)\n",
    "            else:\n",
    "                v = txt\n",
    "                tm_dic[k] = v\n",
    "            cnt+=1\n",
    "print(cnt)\n",
    "print(len(test_set))"
   ]
  },
  {
   "cell_type": "code",
   "execution_count": 7,
   "metadata": {},
   "outputs": [
    {
     "name": "stdout",
     "output_type": "stream",
     "text": [
      "0\n"
     ]
    },
    {
     "data": {
      "text/plain": [
       "551"
      ]
     },
     "execution_count": 7,
     "metadata": {},
     "output_type": "execute_result"
    }
   ],
   "source": [
    "# CHECK FOR PLACEHOLDERS (</>):\n",
    "cnt = 0\n",
    "for k,v in tm_dic.items():\n",
    "    #if v.lower().count('[')>0:\n",
    "    if v.count('<')>0 and v.count('>')>0:\n",
    "        cnt+=1\n",
    "        print(k,\"\\n\")\n",
    "print(cnt)\n",
    "\n",
    "len(tm_dic)"
   ]
  },
  {
   "cell_type": "code",
   "execution_count": 8,
   "metadata": {},
   "outputs": [],
   "source": [
    "# REMOVE NUMERIC SEGMENTS:\n",
    "for k in tm_dic.copy():\n",
    "    if k:\n",
    "        if k.isnumeric():\n",
    "            #del tm_dic[k]\n",
    "            print(k)\n",
    "    else:\n",
    "        del tm_dic[k]"
   ]
  },
  {
   "cell_type": "code",
   "execution_count": 9,
   "metadata": {},
   "outputs": [
    {
     "name": "stdout",
     "output_type": "stream",
     "text": [
      "Length of data before filtering 550\n",
      "Length of data after filtering 550\n",
      "Number of Placeholders filtered from data 0\n",
      "Number of TC Comments filtered from data 0\n"
     ]
    }
   ],
   "source": [
    "# DEFINE FUNCTIONS TO REMOVE TEXT IN SQUARE BRACKETS (Translator Comments) \n",
    "print(\"Length of data before filtering\", str(len(tm_dic)))\n",
    "def rmvTxt_inSqBrckts(text):\n",
    "    #text = re.sub(\"[\\(\\[].*?[\\)\\]]\", \" \", text, 1) # Removes text in parens and sq brackets, 1st occurrence.\n",
    "    text = re.sub(\"[\\[].*?[\\]]\", \" \", text) # Removes text in sq brackets\n",
    "    text = re.sub(\" +\", \" \", text) # Removes excess spaces\n",
    "    return text.strip()\n",
    "\n",
    "def rmvTxt_placeholders(text):\n",
    "    #text = re.sub(\"[\\(\\[].*?[\\)\\]]\", \" \", text, 1) # Removes text in parens and sq brackets, 1st occurrence.\n",
    "    text = re.sub(\"[\\<].*?[\\>]\", \" \", text) # Removes text in between arrow brackets\n",
    "    text = re.sub(\" +\", \" \", text) # Removes excess spaces\n",
    "    return text.strip()\n",
    "\n",
    "cnt = 0\n",
    "cnt2 = 0\n",
    "for k,v in tm_dic.copy().items():\n",
    "    if k.count('<')>0 and k.count('>')>0:\n",
    "        tm_dic[rmvTxt_placeholders(k)] = rmvTxt_placeholders(v)\n",
    "        del dic[k]\n",
    "        cnt+=1\n",
    "    if v.lower().count(\"[tc:\")>0:\n",
    "        tm_dic[k] = rmvTxt_inSqBrckts(v)\n",
    "        cnt2+=1\n",
    "        \n",
    "print(\"Length of data after filtering\", str(len(tm_dic)))\n",
    "print(\"Number of Placeholders filtered from data\", str(cnt))\n",
    "print(\"Number of TC Comments filtered from data\", str(cnt2))"
   ]
  },
  {
   "cell_type": "code",
   "execution_count": 10,
   "metadata": {},
   "outputs": [
    {
     "name": "stdout",
     "output_type": "stream",
     "text": [
      "Length of data before trimming 550\n",
      "Length of data after trimming 550\n",
      "Number of segments filtered from data 0\n"
     ]
    }
   ],
   "source": [
    "# Define a function to split the texts into tokens and remove special characters and stopwords:\n",
    "special_chars = [  # Source = https://towardsdatascience.com/multilingual-document-classification-2731ce8c0163\n",
    "    ',', '.', '\"', ':', ')', '(', '-', '!', '?', '|', ';', \"'\", '/', \n",
    "    '[', ']', '>', '%', '=', '#', '*', '+', '\\\\', '•',  '~', '·', \n",
    "    '_', '{', '}', '©', '^', '®', '`',  '<', '→', '°', '™', '›','♥',\n",
    "    '←', '×', '§', '″', '′', '█', '½', '…', '“', '★', '”','–', '●', \n",
    "    '►', '−', '¢', '²', '¬', '░', '¶', '↑', '±', '¿', '▾','═', '¦',\n",
    "    '║', '―', '¥', '▓', '—', '‹', '─', '▒', '：', '⊕', '▼', '▪',  \n",
    "    '†', '■', '’', '▀', '¨', '▄', '♫', '☆', '¯', '♦', '¤', '▲', '∞',\n",
    "    '∙', '）', '↓', '、', '│', '（', '»', '，', '♪', '╩', '╚', '³',\n",
    "    '・', '╦', '╣', '╔', '╗', '▬','❤', 'ï', 'Ø', '¹', '≤', '‡', '√'\n",
    "]\n",
    "\n",
    "def char_checktext(text):\n",
    "    \n",
    "    if set(text.strip().lower().replace(' ','')).issubset(''.join(special_chars) + string.whitespace + string.digits):\n",
    "        return True\n",
    "    else:\n",
    "        return False\n",
    "\n",
    "print(\"Length of data before trimming\", str(len(tm_dic)))\n",
    "cnt = 0 \n",
    "for k in tm_dic.copy():\n",
    "    if char_checktext(k):\n",
    "        del tm_dic[k]\n",
    "        cnt+=1\n",
    "print(\"Length of data after trimming\", str(len(tm_dic)))\n",
    "print(\"Number of segments filtered from data\", str(cnt))"
   ]
  },
  {
   "cell_type": "code",
   "execution_count": 11,
   "metadata": {},
   "outputs": [
    {
     "data": {
      "text/plain": [
       "550"
      ]
     },
     "execution_count": 11,
     "metadata": {},
     "output_type": "execute_result"
    }
   ],
   "source": [
    "for k in tm_dic:\n",
    "    if k.isnumeric():\n",
    "        #del tm_dic[k]\n",
    "        print(k)\n",
    "len([x for x in tm_dic.keys() if x.strip() != ''])"
   ]
  },
  {
   "cell_type": "code",
   "execution_count": 12,
   "metadata": {},
   "outputs": [],
   "source": [
    "# PREPARE TO CONVERT DICTIONARY TO PANDAS DATAFRAME BY CONVERTING VALUES TO LIST TYPE:\n",
    "for k,v in tm_dic.items():\n",
    "    tm_dic[k]=[v]"
   ]
  },
  {
   "cell_type": "code",
   "execution_count": 13,
   "metadata": {},
   "outputs": [
    {
     "name": "stdout",
     "output_type": "stream",
     "text": [
      "EFTA Surveillance Authority Decision \n",
      " ['Beschluss der EFTA-Überwachungsbehörde']\n"
     ]
    }
   ],
   "source": [
    "# SAMPLE THE DATA:\n",
    "for k,v in tm_dic.items():\n",
    "    print(k, \"\\n\", v)\n",
    "    break"
   ]
  },
  {
   "cell_type": "code",
   "execution_count": 14,
   "metadata": {},
   "outputs": [],
   "source": [
    "# CONVERT DICTIONARY TO DATAFRAME:\n",
    "data = pd.DataFrame(tm_dic)"
   ]
  },
  {
   "cell_type": "code",
   "execution_count": 15,
   "metadata": {},
   "outputs": [
    {
     "data": {
      "text/html": [
       "<div>\n",
       "<style scoped>\n",
       "    .dataframe tbody tr th:only-of-type {\n",
       "        vertical-align: middle;\n",
       "    }\n",
       "\n",
       "    .dataframe tbody tr th {\n",
       "        vertical-align: top;\n",
       "    }\n",
       "\n",
       "    .dataframe thead th {\n",
       "        text-align: right;\n",
       "    }\n",
       "</style>\n",
       "<table border=\"1\" class=\"dataframe\">\n",
       "  <thead>\n",
       "    <tr style=\"text-align: right;\">\n",
       "      <th></th>\n",
       "      <th>en</th>\n",
       "      <th>de</th>\n",
       "    </tr>\n",
       "  </thead>\n",
       "  <tbody>\n",
       "    <tr>\n",
       "      <th>0</th>\n",
       "      <td>EFTA Surveillance Authority Decision</td>\n",
       "      <td>Beschluss der EFTA-Überwachungsbehörde</td>\n",
       "    </tr>\n",
       "  </tbody>\n",
       "</table>\n",
       "</div>"
      ],
      "text/plain": [
       "                                     en  \\\n",
       "0  EFTA Surveillance Authority Decision   \n",
       "\n",
       "                                       de  \n",
       "0  Beschluss der EFTA-Überwachungsbehörde  "
      ]
     },
     "execution_count": 15,
     "metadata": {},
     "output_type": "execute_result"
    }
   ],
   "source": [
    "# PROPERLY FORMAT DATAFRAME:\n",
    "data = data.T\n",
    "data.reset_index(inplace=True)\n",
    "data.rename(columns={'index':'en', 0:'de'}, inplace = True)\n",
    "data.head(1)"
   ]
  },
  {
   "cell_type": "code",
   "execution_count": 16,
   "metadata": {},
   "outputs": [
    {
     "data": {
      "text/plain": [
       "550"
      ]
     },
     "execution_count": 16,
     "metadata": {},
     "output_type": "execute_result"
    }
   ],
   "source": [
    "len(data)"
   ]
  },
  {
   "cell_type": "code",
   "execution_count": 17,
   "metadata": {},
   "outputs": [
    {
     "name": "stdout",
     "output_type": "stream",
     "text": [
      "<class 'pandas.core.frame.DataFrame'>\n",
      "RangeIndex: 550 entries, 0 to 549\n",
      "Data columns (total 2 columns):\n",
      " #   Column  Non-Null Count  Dtype \n",
      "---  ------  --------------  ----- \n",
      " 0   en      550 non-null    object\n",
      " 1   de      550 non-null    object\n",
      "dtypes: object(2)\n",
      "memory usage: 8.7+ KB\n"
     ]
    }
   ],
   "source": [
    "data.info()"
   ]
  },
  {
   "cell_type": "code",
   "execution_count": 18,
   "metadata": {},
   "outputs": [],
   "source": [
    "for i in data.en.isnull():\n",
    "    if i==True:\n",
    "        print(i)"
   ]
  },
  {
   "cell_type": "code",
   "execution_count": 19,
   "metadata": {},
   "outputs": [],
   "source": [
    "# EXPORT DATA TO .csv:\n",
    "path_csv = r'data\\parallel_corpus.csv'\n",
    "data.to_csv(path_csv)"
   ]
  },
  {
   "cell_type": "code",
   "execution_count": 20,
   "metadata": {},
   "outputs": [
    {
     "data": {
      "text/html": [
       "<div>\n",
       "<style scoped>\n",
       "    .dataframe tbody tr th:only-of-type {\n",
       "        vertical-align: middle;\n",
       "    }\n",
       "\n",
       "    .dataframe tbody tr th {\n",
       "        vertical-align: top;\n",
       "    }\n",
       "\n",
       "    .dataframe thead th {\n",
       "        text-align: right;\n",
       "    }\n",
       "</style>\n",
       "<table border=\"1\" class=\"dataframe\">\n",
       "  <thead>\n",
       "    <tr style=\"text-align: right;\">\n",
       "      <th></th>\n",
       "      <th>en</th>\n",
       "      <th>de</th>\n",
       "    </tr>\n",
       "  </thead>\n",
       "  <tbody>\n",
       "    <tr>\n",
       "      <th>0</th>\n",
       "      <td>EFTA Surveillance Authority Decision</td>\n",
       "      <td>Beschluss der EFTA-Überwachungsbehörde</td>\n",
       "    </tr>\n",
       "  </tbody>\n",
       "</table>\n",
       "</div>"
      ],
      "text/plain": [
       "                                     en  \\\n",
       "0  EFTA Surveillance Authority Decision   \n",
       "\n",
       "                                       de  \n",
       "0  Beschluss der EFTA-Überwachungsbehörde  "
      ]
     },
     "execution_count": 20,
     "metadata": {},
     "output_type": "execute_result"
    }
   ],
   "source": [
    "# TEST RELOADING DATAFRAME FROM .csv:\n",
    "data_prepped = pd.read_csv(path_csv)\n",
    "data_prepped = data.drop(columns=data.columns[0])\n",
    "data.head(1)"
   ]
  }
 ],
 "metadata": {
  "kernelspec": {
   "display_name": "Python 3",
   "language": "python",
   "name": "python3"
  },
  "language_info": {
   "codemirror_mode": {
    "name": "ipython",
    "version": 3
   },
   "file_extension": ".py",
   "mimetype": "text/x-python",
   "name": "python",
   "nbconvert_exporter": "python",
   "pygments_lexer": "ipython3",
   "version": "3.8.3"
  }
 },
 "nbformat": 4,
 "nbformat_minor": 4
}
